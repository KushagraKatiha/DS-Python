{
 "cells": [
  {
   "cell_type": "code",
   "execution_count": 8,
   "metadata": {},
   "outputs": [
    {
     "name": "stdout",
     "output_type": "stream",
     "text": [
      "55\n"
     ]
    }
   ],
   "source": [
    "def fibonacci(n, memo={}):\n",
    "    if n in memo:\n",
    "        return memo[n]\n",
    "    if n <= 1:\n",
    "        return n\n",
    "    memo[n] = fibonacci(n-1, memo) + fibonacci(n-2, memo)\n",
    "\n",
    "    return memo[n]\n",
    "\n",
    "print(fibonacci(10))"
   ]
  },
  {
   "cell_type": "code",
   "execution_count": null,
   "metadata": {},
   "outputs": [],
   "source": [
    "def add_to_dict(a, b=None):\n",
    "    if b is None:\n",
    "        b = {}\n",
    "    b[a] = a**2\n",
    "    return b"
   ]
  },
  {
   "cell_type": "code",
   "execution_count": null,
   "metadata": {},
   "outputs": [],
   "source": [
    "def filter_ints(**kwargs):\n",
    "    return {k: v for k, v in kwargs.items() if isinstance(v, int)}"
   ]
  },
  {
   "cell_type": "code",
   "execution_count": 13,
   "metadata": {},
   "outputs": [
    {
     "name": "stdout",
     "output_type": "stream",
     "text": [
      "[1, 4, 9, 16]\n",
      "[2, 3, 4, 5]\n"
     ]
    }
   ],
   "source": [
    "def call_back_func(cb, lst):\n",
    "    return [cb(x) for x in lst if isinstance(x, int)]\n",
    "\n",
    "print(call_back_func(lambda x: x**2, [1, 2, 3, 4, 'a', 'b']))\n",
    "print(call_back_func(lambda x: x+1, [1, 2, 3, 4]))"
   ]
  },
  {
   "cell_type": "code",
   "execution_count": 14,
   "metadata": {},
   "outputs": [
    {
     "name": "stdout",
     "output_type": "stream",
     "text": [
      "9\n"
     ]
    }
   ],
   "source": [
    "def func():\n",
    "    def rFunc(num):\n",
    "        return num**2\n",
    "    \n",
    "    return rFunc\n",
    "\n",
    "sqr = func()\n",
    "print(sqr(3))"
   ]
  },
  {
   "cell_type": "code",
   "execution_count": 16,
   "metadata": {},
   "outputs": [
    {
     "name": "stdout",
     "output_type": "stream",
     "text": [
      "squares ran in 1.9073486328125e-06 time\n",
      "[1, 9, 16, 25]\n"
     ]
    }
   ],
   "source": [
    "import time\n",
    "def func(f):\n",
    "    def wrapper(*args, **kwargs):\n",
    "        startTime = time.time()\n",
    "        result = f(*args, **kwargs)\n",
    "        endTime = time.time()\n",
    "        print(f'{f.__name__} ran in {endTime-startTime} time')\n",
    "        return result\n",
    "    return wrapper\n",
    "\n",
    "@func\n",
    "def squares(lst):\n",
    "    return [x**2 for x in lst]\n",
    "\n",
    "print(squares([1, 3, 4, 5]))\n"
   ]
  },
  {
   "cell_type": "code",
   "execution_count": null,
   "metadata": {},
   "outputs": [],
   "source": [
    "def func(filter_func, map_func, lst):\n",
    "    return [map_func(x) for x in lst if filter_func(x)]"
   ]
  },
  {
   "cell_type": "code",
   "execution_count": 18,
   "metadata": {},
   "outputs": [
    {
     "name": "stdout",
     "output_type": "stream",
     "text": [
      "7\n",
      "11\n"
     ]
    }
   ],
   "source": [
    "def compose(f, g):\n",
    "    def func(x):\n",
    "        resultA = g(x)\n",
    "        resultB = f(resultA)\n",
    "        return resultB\n",
    "    return func \n",
    "\n",
    "f = lambda x: x+1\n",
    "g = lambda x: x*2\n",
    "\n",
    "h = compose(f, g)\n",
    "\n",
    "print(h(3))\n",
    "print(h(5))\n"
   ]
  },
  {
   "cell_type": "code",
   "execution_count": 2,
   "metadata": {},
   "outputs": [
    {
     "name": "stdout",
     "output_type": "stream",
     "text": [
      "8\n",
      "10\n"
     ]
    }
   ],
   "source": [
    "import functools\n",
    "\n",
    "mul_by_two = functools.partial(lambda x, y: x*y, 2)\n",
    "\n",
    "print(mul_by_two(4))\n",
    "print(mul_by_two(5))"
   ]
  },
  {
   "cell_type": "code",
   "execution_count": 4,
   "metadata": {},
   "outputs": [
    {
     "name": "stdout",
     "output_type": "stream",
     "text": [
      "None\n",
      "3.0\n"
     ]
    }
   ],
   "source": [
    "def average(lst):\n",
    "    try:\n",
    "        return sum(lst)/len(lst)\n",
    "    except Exception:\n",
    "        return None\n",
    "    \n",
    "print(average([]))\n",
    "print(average([1, 2, 3, 4, 5]))"
   ]
  },
  {
   "cell_type": "code",
   "execution_count": 7,
   "metadata": {},
   "outputs": [
    {
     "name": "stdout",
     "output_type": "stream",
     "text": [
      "0\n",
      "1\n",
      "1\n",
      "2\n",
      "3\n",
      "5\n",
      "8\n",
      "13\n",
      "21\n",
      "34\n"
     ]
    }
   ],
   "source": [
    "def fibb_gen():\n",
    "    a, b = 0, 1\n",
    "    while True:\n",
    "        yield a\n",
    "        a, b = b, a+b\n",
    "\n",
    "fibbo = fibb_gen()\n",
    "for _ in range(10):\n",
    "    print(next(fibbo))"
   ]
  },
  {
   "cell_type": "code",
   "execution_count": 9,
   "metadata": {},
   "outputs": [
    {
     "name": "stdout",
     "output_type": "stream",
     "text": [
      "10\n"
     ]
    }
   ],
   "source": [
    "def curry_product(x):\n",
    "    def inner1(y):\n",
    "        def inner2(z):\n",
    "            return x+y+z\n",
    "        return inner2\n",
    "    return inner1\n",
    "\n",
    "print(curry_product(2)(3)(5))"
   ]
  },
  {
   "cell_type": "code",
   "execution_count": 10,
   "metadata": {},
   "outputs": [],
   "source": [
    "def write_to_file(lst, filename):\n",
    "    try:\n",
    "        with open(filename, 'w') as f:\n",
    "            for num in lst:\n",
    "                f.write(f'{num}\\n')\n",
    "    except IOError as e:\n",
    "        print(f\"An error occurred: {e}\")\n",
    "    \n",
    "write_to_file([1, 2, 3, 4, 5], 'output.txt')"
   ]
  },
  {
   "cell_type": "code",
   "execution_count": null,
   "metadata": {},
   "outputs": [],
   "source": [
    "def separate_types(lst):\n",
    "    ints, strs, floats = [], [], []\n",
    "    for item in lst:\n",
    "        if isinstance(item, int):\n",
    "            ints.append(item)\n",
    "        elif isinstance(item, str):\n",
    "            strs.append(item)\n",
    "        elif isinstance(item, float):\n",
    "            floats.append(item)\n",
    "    return ints, strs, floats"
   ]
  },
  {
   "cell_type": "code",
   "execution_count": null,
   "metadata": {},
   "outputs": [],
   "source": [
    "def call_counter(counter = {'count': 0}):\n",
    "    counter['count'] += 1\n",
    "    return counter['count']\n",
    "\n"
   ]
  },
  {
   "cell_type": "code",
   "execution_count": null,
   "metadata": {},
   "outputs": [],
   "source": []
  },
  {
   "cell_type": "code",
   "execution_count": null,
   "metadata": {},
   "outputs": [],
   "source": []
  },
  {
   "cell_type": "code",
   "execution_count": null,
   "metadata": {},
   "outputs": [],
   "source": []
  },
  {
   "cell_type": "code",
   "execution_count": null,
   "metadata": {},
   "outputs": [],
   "source": []
  }
 ],
 "metadata": {
  "kernelspec": {
   "display_name": "venv",
   "language": "python",
   "name": "python3"
  },
  "language_info": {
   "codemirror_mode": {
    "name": "ipython",
    "version": 3
   },
   "file_extension": ".py",
   "mimetype": "text/x-python",
   "name": "python",
   "nbconvert_exporter": "python",
   "pygments_lexer": "ipython3",
   "version": "3.12.0"
  }
 },
 "nbformat": 4,
 "nbformat_minor": 2
}
