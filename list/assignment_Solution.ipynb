{
 "cells": [
  {
   "cell_type": "code",
   "execution_count": 3,
   "metadata": {},
   "outputs": [
    {
     "name": "stdout",
     "output_type": "stream",
     "text": [
      "[1, 2, 3, 4, 5, 6, 7, 8, 9, 10, 11, 12, 13, 14, 15, 16, 17, 18, 19, 20]\n"
     ]
    }
   ],
   "source": [
    "lst = list()\n",
    "for i in range(1, 21):\n",
    "    lst.append(i)\n",
    "\n",
    "print(lst)"
   ]
  },
  {
   "cell_type": "code",
   "execution_count": 5,
   "metadata": {},
   "outputs": [
    {
     "name": "stdout",
     "output_type": "stream",
     "text": [
      "1\n",
      "11\n",
      "20\n"
     ]
    }
   ],
   "source": [
    "print(lst[0])\n",
    "print(lst[len(lst)//2])\n",
    "print(lst[len(lst)-1])"
   ]
  },
  {
   "cell_type": "code",
   "execution_count": 17,
   "metadata": {},
   "outputs": [
    {
     "name": "stdout",
     "output_type": "stream",
     "text": [
      "[1, 2, 3, 4, 5]\n",
      "[16, 17, 18, 19, 20]\n",
      "[6, 7, 8, 9, 10, 11, 12, 13, 14, 15]\n"
     ]
    }
   ],
   "source": [
    "print(lst[0:5])\n",
    "print(lst[-5:])\n",
    "print(lst[5: 15])\n"
   ]
  },
  {
   "cell_type": "code",
   "execution_count": 19,
   "metadata": {},
   "outputs": [
    {
     "name": "stdout",
     "output_type": "stream",
     "text": [
      "[1, 4, 9, 16, 25, 36, 49, 64, 81, 100]\n"
     ]
    }
   ],
   "source": [
    "sqr_lst = [i**2 for i in range(1, 11)]\n",
    "print(sqr_lst)"
   ]
  },
  {
   "cell_type": "code",
   "execution_count": 20,
   "metadata": {},
   "outputs": [
    {
     "name": "stdout",
     "output_type": "stream",
     "text": [
      "[2, 4, 6, 8, 10, 12, 14, 16, 18, 20]\n"
     ]
    }
   ],
   "source": [
    "even_lst = [i for i in lst if(i % 2 == 0)]\n",
    "print(even_lst)"
   ]
  },
  {
   "cell_type": "code",
   "execution_count": 26,
   "metadata": {},
   "outputs": [
    {
     "name": "stdout",
     "output_type": "stream",
     "text": [
      "[1, 1, 2, 2, 3, 4, 4, 5]\n",
      "[5, 4, 4, 3, 2, 2, 1, 1]\n",
      "{1, 2, 3, 4, 5}\n"
     ]
    }
   ],
   "source": [
    "random_lst = [1, 2, 5, 4, 3, 2, 4, 1]\n",
    "\n",
    "random_lst.sort()\n",
    "print(random_lst)\n",
    "\n",
    "random_lst.reverse()\n",
    "print(random_lst)\n",
    "\n",
    "unique_number = set(random_lst)\n",
    "print(unique_number)\n"
   ]
  },
  {
   "cell_type": "code",
   "execution_count": null,
   "metadata": {},
   "outputs": [
    {
     "name": "stdout",
     "output_type": "stream",
     "text": [
      "[1, 2, 3]\n",
      "[4, 5, 6]\n",
      "[7, 8, 9]\n",
      "6\n"
     ]
    }
   ],
   "source": [
    "## Assignment 7\n",
    "\n",
    "matrix = [[1, 2, 3], [4, 5, 6], [7, 8, 9]]\n",
    "\n",
    "for row in matrix:\n",
    "   print(row)\n",
    "\n",
    "print(matrix[1][2])\n"
   ]
  },
  {
   "cell_type": "code",
   "execution_count": 9,
   "metadata": {},
   "outputs": [],
   "source": [
    "## Assignment 9\n",
    "\n",
    "def transpose(matrix):\n",
    "    transposedMatrix = []\n",
    "    for i in range(len(matrix[0])):\n",
    "        tRow = []\n",
    "        for j in range(len(matrix)):\n",
    "            tRow.append(matrix[j][i])\n",
    "        transposedMatrix.append(tRow)\n",
    "    return transposedMatrix\n",
    "            "
   ]
  },
  {
   "cell_type": "code",
   "execution_count": 12,
   "metadata": {},
   "outputs": [
    {
     "name": "stdout",
     "output_type": "stream",
     "text": [
      "[1, 2, 3]\n",
      "[4, 5, 6]\n",
      "[7, 8, 9]\n",
      "Above is the original matrix and below is the transposed matrix => \n",
      "[1, 4, 7]\n",
      "[2, 5, 8]\n",
      "[3, 6, 9]\n"
     ]
    }
   ],
   "source": [
    "matrix = [[1, 2, 3], [4, 5, 6], [7, 8, 9]]\n",
    "\n",
    "transposedMatrix = transpose(matrix)\n",
    "\n",
    "for row in matrix:\n",
    "    print(row)\n",
    "\n",
    "print('Above is the original matrix and below is the transposed matrix => ')\n",
    "\n",
    "for row in transposedMatrix:\n",
    "    print(row)\n"
   ]
  },
  {
   "cell_type": "code",
   "execution_count": 21,
   "metadata": {},
   "outputs": [],
   "source": [
    "## Assignment 10:\n",
    "def flattenList(lst):\n",
    "    flattenedList = [key for item in lst\n",
    "                     for key in item]\n",
    "    return flattenedList"
   ]
  },
  {
   "cell_type": "code",
   "execution_count": 23,
   "metadata": {},
   "outputs": [
    {
     "name": "stdout",
     "output_type": "stream",
     "text": [
      "[1, 2, 3, 1, 2, 3, 1, 2, 3]\n"
     ]
    }
   ],
   "source": [
    "print(flattenList([[1, 2, 3],[1, 2, 3], [1, 2, 3]]))"
   ]
  },
  {
   "cell_type": "code",
   "execution_count": 25,
   "metadata": {},
   "outputs": [
    {
     "name": "stdout",
     "output_type": "stream",
     "text": [
      "[1, 2, 4, 5, 7, 99, 8, 10]\n"
     ]
    }
   ],
   "source": [
    "## Assignment 11\n",
    "lst = [i for i in range(1, 11)]\n",
    "del lst[2]\n",
    "del lst[4]\n",
    "del lst[6]\n",
    "\n",
    "lst.insert(5, 99)\n",
    "\n",
    "print(lst)\n"
   ]
  },
  {
   "cell_type": "code",
   "execution_count": 32,
   "metadata": {},
   "outputs": [
    {
     "name": "stdout",
     "output_type": "stream",
     "text": [
      "[(1, 6), (2, 7), (3, 8), (4, 9), (5, 10), (6, 11)]\n"
     ]
    }
   ],
   "source": [
    "lst1 = [1, 2, 3, 4, 5]\n",
    "lst2 = [6, 7, 8, 9, 10]\n",
    "\n",
    "zippedList = list(zip(lst1, lst2))\n",
    "print(zippedList)"
   ]
  },
  {
   "cell_type": "code",
   "execution_count": 38,
   "metadata": {},
   "outputs": [],
   "source": [
    "def reverseList(lst):\n",
    "    return lst[::-1]"
   ]
  },
  {
   "cell_type": "code",
   "execution_count": 39,
   "metadata": {},
   "outputs": [
    {
     "name": "stdout",
     "output_type": "stream",
     "text": [
      "[5, 4, 3, 2, 1]\n"
     ]
    }
   ],
   "source": [
    "print(reverseList([1, 2, 3, 4, 5]))"
   ]
  },
  {
   "cell_type": "code",
   "execution_count": 40,
   "metadata": {},
   "outputs": [
    {
     "name": "stdout",
     "output_type": "stream",
     "text": [
      "[4, 5, 7, 99, 8, 10, 1, 2]\n"
     ]
    }
   ],
   "source": [
    "## Assignment 14\n",
    "def rotateList(lst, n):\n",
    "    return lst[n:] + lst[:n]\n",
    "\n",
    "print(rotateList(lst, 2))"
   ]
  },
  {
   "cell_type": "code",
   "execution_count": 41,
   "metadata": {},
   "outputs": [
    {
     "name": "stdout",
     "output_type": "stream",
     "text": [
      "[2, 3]\n"
     ]
    }
   ],
   "source": [
    "def intersectionList(lst1, lst2):\n",
    "    return [item for item in lst1 if item in lst2]\n",
    "\n",
    "print(intersectionList([1, 2, 3, 4, 5], [0, 2, 3, 6, 8]))"
   ]
  },
  {
   "cell_type": "code",
   "execution_count": null,
   "metadata": {},
   "outputs": [],
   "source": []
  }
 ],
 "metadata": {
  "kernelspec": {
   "display_name": "base",
   "language": "python",
   "name": "python3"
  },
  "language_info": {
   "codemirror_mode": {
    "name": "ipython",
    "version": 3
   },
   "file_extension": ".py",
   "mimetype": "text/x-python",
   "name": "python",
   "nbconvert_exporter": "python",
   "pygments_lexer": "ipython3",
   "version": "3.12.4"
  }
 },
 "nbformat": 4,
 "nbformat_minor": 2
}
